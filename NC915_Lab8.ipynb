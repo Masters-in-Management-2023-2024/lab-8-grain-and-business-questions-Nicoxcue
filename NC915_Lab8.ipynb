{
  "cells": [
    {
      "cell_type": "markdown",
      "metadata": {
        "id": "ipK8HOg8ytc-"
      },
      "source": [
        "# Diamond Company Analytics Challenge\n",
        "\n",
        "**Time:** 35 minutes\n",
        "\n",
        "**Scenario:** You are the new data analyst at a prestigious diamond company. The CEO has called an urgent meeting and needs answers to critical business questions about the inventory.\n",
        "\n",
        "**Your Mission:** Analyze the diamond inventory data and provide insights to guide strategic decisions."
      ]
    },
    {
      "cell_type": "code",
      "execution_count": null,
      "metadata": {
        "colab": {
          "base_uri": "https://localhost:8080/"
        },
        "id": "zmUbsfuDytc_",
        "outputId": "4005b6c9-7705-4c75-f76c-a02fa0bfafd1"
      },
      "outputs": [
        {
          "output_type": "stream",
          "name": "stdout",
          "text": [
            "Loading diamonds dataset...\n",
            "Dataset loaded successfully!\n"
          ]
        }
      ],
      "source": [
        "import polars as pl\n",
        "\n",
        "# Load the diamonds dataset\n",
        "print(\"Loading diamonds dataset...\")\n",
        "df = pl.read_csv('https://raw.githubusercontent.com/pycaret/pycaret/master/datasets/diamond.csv')\n",
        "print(\"Dataset loaded successfully!\")"
      ]
    },
    {
      "cell_type": "markdown",
      "metadata": {
        "id": "Ud4QhbbjytdA"
      },
      "source": [
        "## Section 1: Initial Inventory Assessment (5 minutes)\n",
        "\n",
        "The CEO walks in: \"Before we dive into specifics, I need to understand what we're working with. Give me the basics about our inventory database.\""
      ]
    },
    {
      "cell_type": "markdown",
      "metadata": {
        "id": "5-h5LMBfytdA"
      },
      "source": [
        "### Question 1: \"How extensive is our inventory database?\"\n",
        "\n",
        "The CEO needs to know the scale of data you're analyzing."
      ]
    },
    {
      "cell_type": "code",
      "execution_count": null,
      "metadata": {
        "colab": {
          "base_uri": "https://localhost:8080/"
        },
        "id": "CeGGY9i7ytdA",
        "outputId": "e3812e1f-3c8c-46be-a771-5bf4f3597df2"
      },
      "outputs": [
        {
          "output_type": "execute_result",
          "data": {
            "text/plain": [
              "6000"
            ]
          },
          "metadata": {},
          "execution_count": 8
        }
      ],
      "source": [
        "# Your code here:\n",
        "df.shape[0]"
      ]
    },
    {
      "cell_type": "markdown",
      "metadata": {
        "id": "g2MTXXu1ytdB"
      },
      "source": [
        "### Question 2: \"What information do we track about each diamond?\"\n",
        "\n",
        "List all the characteristics we record."
      ]
    },
    {
      "cell_type": "code",
      "execution_count": null,
      "metadata": {
        "colab": {
          "base_uri": "https://localhost:8080/"
        },
        "id": "h8ULBtWXytdB",
        "outputId": "f6fda4db-12ee-4a04-ee9e-d60ec0793a6d"
      },
      "outputs": [
        {
          "output_type": "execute_result",
          "data": {
            "text/plain": [
              "['Carat Weight',\n",
              " 'Cut',\n",
              " 'Color',\n",
              " 'Clarity',\n",
              " 'Polish',\n",
              " 'Symmetry',\n",
              " 'Report',\n",
              " 'Price']"
            ]
          },
          "metadata": {},
          "execution_count": 9
        }
      ],
      "source": [
        "# Your code here:\n",
        "df.columns"
      ]
    },
    {
      "cell_type": "markdown",
      "metadata": {
        "id": "cdxvUnMfytdB"
      },
      "source": [
        "### Question 3: \"When I look at one line in this database, what am I looking at?\"\n",
        "\n",
        "Explain in business terms:"
      ]
    },
    {
      "cell_type": "markdown",
      "metadata": {
        "id": "idvcuGihytdB"
      },
      "source": [
        "**Your answer:** Each row represents: one special diamond in our stock, together with its weight (carat), physical measurements, proportions, quality grades (cut, color, and clarity), and cost. Accordingly, a single line represents a whole product record for a particular diamond."
      ]
    },
    {
      "cell_type": "markdown",
      "metadata": {
        "id": "WeDJN7wvytdB"
      },
      "source": [
        "## Section 2: Strategic Business Questions (20 minutes)\n",
        "\n",
        "The CEO continues: \"Now let's get to the important questions. Our board meeting is tomorrow and I need concrete numbers.\""
      ]
    },
    {
      "cell_type": "markdown",
      "metadata": {
        "id": "effyhmxHytdB"
      },
      "source": [
        "### Question 4: \"We're considering expanding our storage facilities. How many total carats do we have in inventory? I need to know if our vaults can handle the weight.\"\n",
        "\n",
        "Think about what measurement would help answer this."
      ]
    },
    {
      "cell_type": "code",
      "execution_count": null,
      "metadata": {
        "colab": {
          "base_uri": "https://localhost:8080/",
          "height": 129
        },
        "id": "5v44OVSfytdB",
        "outputId": "b454dff6-bc1f-4c77-cc44-9001e5a02c5b"
      },
      "outputs": [
        {
          "output_type": "execute_result",
          "data": {
            "text/plain": [
              "shape: (1, 1)\n",
              "┌──────────────┐\n",
              "│ Carat Weight │\n",
              "│ ---          │\n",
              "│ f64          │\n",
              "╞══════════════╡\n",
              "│ 8007.12      │\n",
              "└──────────────┘"
            ],
            "text/html": [
              "<div><style>\n",
              ".dataframe > thead > tr,\n",
              ".dataframe > tbody > tr {\n",
              "  text-align: right;\n",
              "  white-space: pre-wrap;\n",
              "}\n",
              "</style>\n",
              "<small>shape: (1, 1)</small><table border=\"1\" class=\"dataframe\"><thead><tr><th>Carat Weight</th></tr><tr><td>f64</td></tr></thead><tbody><tr><td>8007.12</td></tr></tbody></table></div>"
            ]
          },
          "metadata": {},
          "execution_count": 10
        }
      ],
      "source": [
        "# Your code here:\n",
        "total_carats = df.select(pl.col(\"Carat Weight\").sum())\n",
        "total_carats"
      ]
    },
    {
      "cell_type": "markdown",
      "metadata": {
        "id": "ZhjCsId9ytdC"
      },
      "source": [
        "### Question 5: \"Our new marketing campaign claims we have 'the widest variety of cuts in the industry.' Can you verify this?\"\n",
        "\n",
        "The CEO wants to know about variety, not quantity."
      ]
    },
    {
      "cell_type": "code",
      "execution_count": null,
      "metadata": {
        "colab": {
          "base_uri": "https://localhost:8080/",
          "height": 255
        },
        "id": "GL53SaKdytdC",
        "outputId": "90497c16-94bc-4ca1-96c4-8cfa14c6b2fa"
      },
      "outputs": [
        {
          "output_type": "execute_result",
          "data": {
            "text/plain": [
              "shape: (5, 1)\n",
              "┌─────────────────┐\n",
              "│ Cut             │\n",
              "│ ---             │\n",
              "│ str             │\n",
              "╞═════════════════╡\n",
              "│ Ideal           │\n",
              "│ Fair            │\n",
              "│ Very Good       │\n",
              "│ Good            │\n",
              "│ Signature-Ideal │\n",
              "└─────────────────┘"
            ],
            "text/html": [
              "<div><style>\n",
              ".dataframe > thead > tr,\n",
              ".dataframe > tbody > tr {\n",
              "  text-align: right;\n",
              "  white-space: pre-wrap;\n",
              "}\n",
              "</style>\n",
              "<small>shape: (5, 1)</small><table border=\"1\" class=\"dataframe\"><thead><tr><th>Cut</th></tr><tr><td>str</td></tr></thead><tbody><tr><td>&quot;Ideal&quot;</td></tr><tr><td>&quot;Fair&quot;</td></tr><tr><td>&quot;Very Good&quot;</td></tr><tr><td>&quot;Good&quot;</td></tr><tr><td>&quot;Signature-Ideal&quot;</td></tr></tbody></table></div>"
            ]
          },
          "metadata": {},
          "execution_count": 11
        }
      ],
      "source": [
        "# Your code here:\n",
        "df.select(pl.col(\"Cut\").unique())"
      ]
    },
    {
      "cell_type": "markdown",
      "metadata": {
        "id": "p-yxnHupytdC"
      },
      "source": [
        "### Question 6: \"I'm meeting with our insurance company. They need to know our price exposure - what's our most and least valuable diamond?\""
      ]
    },
    {
      "cell_type": "code",
      "execution_count": null,
      "metadata": {
        "colab": {
          "base_uri": "https://localhost:8080/"
        },
        "id": "NL0Vb9tjytdC",
        "outputId": "3ad36f11-51d5-4cd4-9a29-82f6d034648d"
      },
      "outputs": [
        {
          "output_type": "stream",
          "name": "stdout",
          "text": [
            "Most valuable diamond (single top row):\n",
            "shape: (1, 8)\n",
            "┌──────────────┬───────┬───────┬─────────┬────────┬──────────┬────────┬────────┐\n",
            "│ Carat Weight ┆ Cut   ┆ Color ┆ Clarity ┆ Polish ┆ Symmetry ┆ Report ┆ Price  │\n",
            "│ ---          ┆ ---   ┆ ---   ┆ ---     ┆ ---    ┆ ---      ┆ ---    ┆ ---    │\n",
            "│ f64          ┆ str   ┆ str   ┆ str     ┆ str    ┆ str      ┆ str    ┆ i64    │\n",
            "╞══════════════╪═══════╪═══════╪═════════╪════════╪══════════╪════════╪════════╡\n",
            "│ 2.79         ┆ Ideal ┆ D     ┆ IF      ┆ EX     ┆ EX       ┆ GIA    ┆ 101561 │\n",
            "└──────────────┴───────┴───────┴─────────┴────────┴──────────┴────────┴────────┘\n",
            "\n",
            "Least valuable diamond (single bottom row):\n",
            "shape: (1, 8)\n",
            "┌──────────────┬──────┬───────┬─────────┬────────┬──────────┬────────┬───────┐\n",
            "│ Carat Weight ┆ Cut  ┆ Color ┆ Clarity ┆ Polish ┆ Symmetry ┆ Report ┆ Price │\n",
            "│ ---          ┆ ---  ┆ ---   ┆ ---     ┆ ---    ┆ ---      ┆ ---    ┆ ---   │\n",
            "│ f64          ┆ str  ┆ str   ┆ str     ┆ str    ┆ str      ┆ str    ┆ i64   │\n",
            "╞══════════════╪══════╪═══════╪═════════╪════════╪══════════╪════════╪═══════╡\n",
            "│ 0.77         ┆ Good ┆ I     ┆ VS1     ┆ VG     ┆ G        ┆ AGSL   ┆ 2184  │\n",
            "└──────────────┴──────┴───────┴─────────┴────────┴──────────┴────────┴───────┘\n",
            "\n",
            "All diamonds at the maximum price:\n",
            "shape: (1, 8)\n",
            "┌──────────────┬───────┬───────┬─────────┬────────┬──────────┬────────┬────────┐\n",
            "│ Carat Weight ┆ Cut   ┆ Color ┆ Clarity ┆ Polish ┆ Symmetry ┆ Report ┆ Price  │\n",
            "│ ---          ┆ ---   ┆ ---   ┆ ---     ┆ ---    ┆ ---      ┆ ---    ┆ ---    │\n",
            "│ f64          ┆ str   ┆ str   ┆ str     ┆ str    ┆ str      ┆ str    ┆ i64    │\n",
            "╞══════════════╪═══════╪═══════╪═════════╪════════╪══════════╪════════╪════════╡\n",
            "│ 2.79         ┆ Ideal ┆ D     ┆ IF      ┆ EX     ┆ EX       ┆ GIA    ┆ 101561 │\n",
            "└──────────────┴───────┴───────┴─────────┴────────┴──────────┴────────┴────────┘\n",
            "\n",
            "All diamonds at the minimum price:\n",
            "shape: (1, 8)\n",
            "┌──────────────┬──────┬───────┬─────────┬────────┬──────────┬────────┬───────┐\n",
            "│ Carat Weight ┆ Cut  ┆ Color ┆ Clarity ┆ Polish ┆ Symmetry ┆ Report ┆ Price │\n",
            "│ ---          ┆ ---  ┆ ---   ┆ ---     ┆ ---    ┆ ---      ┆ ---    ┆ ---   │\n",
            "│ f64          ┆ str  ┆ str   ┆ str     ┆ str    ┆ str      ┆ str    ┆ i64   │\n",
            "╞══════════════╪══════╪═══════╪═════════╪════════╪══════════╪════════╪═══════╡\n",
            "│ 0.77         ┆ Good ┆ I     ┆ VS1     ┆ VG     ┆ G        ┆ AGSL   ┆ 2184  │\n",
            "└──────────────┴──────┴───────┴─────────┴────────┴──────────┴────────┴───────┘\n"
          ]
        }
      ],
      "source": [
        "import polars as pl\n",
        "\n",
        "\n",
        "most_one   = df.sort(\"Price\", descending=True).head(1)\n",
        "least_one  = df.sort(\"Price\", descending=False).head(1)\n",
        "\n",
        "print(\"Most valuable diamond (single top row):\")\n",
        "print(most_one)\n",
        "\n",
        "print(\"\\nLeast valuable diamond (single bottom row):\")\n",
        "print(least_one)\n",
        "\n",
        "\n",
        "max_price = df.select(pl.max(\"Price\")).item()\n",
        "min_price = df.select(pl.min(\"Price\")).item()\n",
        "\n",
        "most_all  = df.filter(pl.col(\"Price\") == max_price)\n",
        "least_all = df.filter(pl.col(\"Price\") == min_price)\n",
        "\n",
        "print(\"\\nAll diamonds at the maximum price:\")\n",
        "print(most_all)\n",
        "\n",
        "print(\"\\nAll diamonds at the minimum price:\")\n",
        "print(least_all)"
      ]
    },
    {
      "cell_type": "markdown",
      "metadata": {
        "id": "UUNTEmL2ytdC"
      },
      "source": [
        "### Question 7: \"Which color grades should we focus on in our premium line? I need typical prices across our color spectrum.\"\n",
        "\n",
        "The CEO wants to understand pricing patterns."
      ]
    },
    {
      "cell_type": "code",
      "execution_count": null,
      "metadata": {
        "colab": {
          "base_uri": "https://localhost:8080/"
        },
        "id": "K98LabwPytdC",
        "outputId": "5e9ca904-db46-4866-d174-0c780f729bea"
      },
      "outputs": [
        {
          "output_type": "stream",
          "name": "stdout",
          "text": [
            "shape: (6, 2)\n",
            "┌───────┬───────────────┐\n",
            "│ Color ┆ Average Price │\n",
            "│ ---   ┆ ---           │\n",
            "│ str   ┆ f64           │\n",
            "╞═══════╪═══════════════╡\n",
            "│ D     ┆ 15255.783661  │\n",
            "│ F     ┆ 12712.241856  │\n",
            "│ G     ┆ 12520.050633  │\n",
            "│ E     ┆ 11539.190231  │\n",
            "│ H     ┆ 10487.347544  │\n",
            "│ I     ┆ 8989.636364   │\n",
            "└───────┴───────────────┘\n"
          ]
        }
      ],
      "source": [
        "# Your code here:\n",
        "avg_price_by_color = (\n",
        "    df.group_by(\"Color\")\n",
        "     .agg(pl.col(\"Price\").mean().alias(\"Average Price\"))\n",
        "     .sort(\"Average Price\", descending=True)\n",
        ")\n",
        "\n",
        "print(avg_price_by_color)"
      ]
    },
    {
      "cell_type": "markdown",
      "metadata": {
        "id": "muHryW59ytdC"
      },
      "source": [
        "**Reflection:** After analyzing by color, how has your view of the data changed? What does each row in your result represent now?"
      ]
    },
    {
      "cell_type": "markdown",
      "metadata": {
        "id": "1xono3DtytdC"
      },
      "source": [
        "**Your answer:** New grain ="
      ]
    },
    {
      "cell_type": "markdown",
      "metadata": {
        "id": "1LLUAcqhytdC"
      },
      "source": [
        "## Section 3: Advanced Strategic Analysis (10 minutes)\n",
        "\n",
        "The CEO leans forward: \"These next questions will shape our strategy for next year.\""
      ]
    },
    {
      "cell_type": "markdown",
      "metadata": {
        "id": "oZqLEnvnytdC"
      },
      "source": [
        "### Question 8: \"We're thinking of specializing in certain clarity grades. For our investor deck, I need a complete breakdown showing: how many diamonds we have in each clarity grade, their typical price, and the total carats we're holding for each grade.\""
      ]
    },
    {
      "cell_type": "code",
      "execution_count": null,
      "metadata": {
        "colab": {
          "base_uri": "https://localhost:8080/"
        },
        "id": "RIi7RmMDytdC",
        "outputId": "05ecf06f-269a-4550-8265-3144f37c0ddb"
      },
      "outputs": [
        {
          "output_type": "stream",
          "name": "stdout",
          "text": [
            "shape: (7, 4)\n",
            "┌─────────┬───────────────┬───────────────┬──────────────┐\n",
            "│ Clarity ┆ Diamond Count ┆ Average Price ┆ Total Carats │\n",
            "│ ---     ┆ ---           ┆ ---           ┆ ---          │\n",
            "│ str     ┆ u32           ┆ f64           ┆ f64          │\n",
            "╞═════════╪═══════════════╪═══════════════╪══════════════╡\n",
            "│ FL      ┆ 4             ┆ 63776.0       ┆ 7.87         │\n",
            "│ IF      ┆ 219           ┆ 22105.844749  ┆ 316.0        │\n",
            "│ VVS1    ┆ 285           ┆ 16845.680702  ┆ 389.43       │\n",
            "│ VVS2    ┆ 666           ┆ 14142.177177  ┆ 876.58       │\n",
            "│ VS1     ┆ 1192          ┆ 13694.113255  ┆ 1682.74      │\n",
            "│ VS2     ┆ 1575          ┆ 11809.053333  ┆ 2170.81      │\n",
            "│ SI1     ┆ 2059          ┆ 8018.864012   ┆ 2563.69      │\n",
            "└─────────┴───────────────┴───────────────┴──────────────┘\n"
          ]
        },
        {
          "output_type": "stream",
          "name": "stderr",
          "text": [
            "/tmp/ipython-input-2072643854.py:5: DeprecationWarning: `pl.count()` is deprecated. Please use `pl.len()` instead.\n",
            "  pl.count().alias(\"Diamond Count\"),\n"
          ]
        }
      ],
      "source": [
        "# Your code here:\n",
        "clarity_summary = (\n",
        "    df.group_by(\"Clarity\")\n",
        "     .agg([\n",
        "         pl.count().alias(\"Diamond Count\"),\n",
        "         pl.col(\"Price\").mean().alias(\"Average Price\"),\n",
        "         pl.col(\"Carat Weight\").sum().alias(\"Total Carats\")\n",
        "     ])\n",
        "     .sort(\"Average Price\", descending=True)\n",
        ")\n",
        "\n",
        "print(clarity_summary)"
      ]
    },
    {
      "cell_type": "markdown",
      "metadata": {
        "id": "cwdeyl6PytdC"
      },
      "source": [
        "### Question 9: \"My luxury competitor claims they have the best prices for every cut-color combination. Show me our pricing structure across these combinations - I want to see where we're competitive.\""
      ]
    },
    {
      "cell_type": "code",
      "execution_count": null,
      "metadata": {
        "colab": {
          "base_uri": "https://localhost:8080/"
        },
        "id": "0aGMZZH6ytdC",
        "outputId": "1cf95c08-8788-4fdc-fe17-395e0b9a5fd9"
      },
      "outputs": [
        {
          "output_type": "stream",
          "name": "stdout",
          "text": [
            "shape: (30, 3)\n",
            "┌───────────┬───────┬───────────────┐\n",
            "│ Cut       ┆ Color ┆ Average Price │\n",
            "│ ---       ┆ ---   ┆ ---           │\n",
            "│ str       ┆ str   ┆ f64           │\n",
            "╞═══════════╪═══════╪═══════════════╡\n",
            "│ Fair      ┆ D     ┆ 6058.25       │\n",
            "│ Fair      ┆ E     ┆ 5370.625      │\n",
            "│ Fair      ┆ F     ┆ 6063.625      │\n",
            "│ Fair      ┆ G     ┆ 7345.52381    │\n",
            "│ Fair      ┆ H     ┆ 5908.5        │\n",
            "│ …         ┆ …     ┆ …             │\n",
            "│ Very Good ┆ E     ┆ 12101.910217  │\n",
            "│ Very Good ┆ F     ┆ 12413.905495  │\n",
            "│ Very Good ┆ G     ┆ 12354.013841  │\n",
            "│ Very Good ┆ H     ┆ 10056.106132  │\n",
            "│ Very Good ┆ I     ┆ 8930.031332   │\n",
            "└───────────┴───────┴───────────────┘\n"
          ]
        }
      ],
      "source": [
        "# Your code here:\n",
        "cut_color_pricing = (\n",
        "    df.group_by([\"Cut\", \"Color\"])\n",
        "     .agg(pl.col(\"Price\").mean().alias(\"Average Price\"))\n",
        "     .sort([\"Cut\", \"Color\"])\n",
        ")\n",
        "\n",
        "print(cut_color_pricing)"
      ]
    },
    {
      "cell_type": "markdown",
      "metadata": {
        "id": "pqxBKWDrytdC"
      },
      "source": [
        "**Reflection:** How specific is your analysis now? What level of detail does each row represent?"
      ]
    },
    {
      "cell_type": "markdown",
      "metadata": {
        "id": "JywfWKUvytdD"
      },
      "source": [
        "**Your answer:** New grain ="
      ]
    },
    {
      "cell_type": "markdown",
      "metadata": {
        "id": "_u6oh-cVytdD"
      },
      "source": [
        "### Question 10: URGENT - \"Our biggest client is interested in purchasing entire inventory segments. They asked: 'Which color-cut combinations represent your highest total inventory value?' Show me the top 5 most valuable inventory segments by total worth, and include how many diamonds are in each segment.\"\n",
        "\n",
        "This is critical for tomorrow's negotiation."
      ]
    },
    {
      "cell_type": "code",
      "execution_count": null,
      "metadata": {
        "colab": {
          "base_uri": "https://localhost:8080/"
        },
        "id": "8ioqX6A-ytdD",
        "outputId": "2bfd94b1-2482-480c-c369-9d10f42ec801"
      },
      "outputs": [
        {
          "output_type": "stream",
          "name": "stdout",
          "text": [
            "shape: (5, 4)\n",
            "┌───────┬───────────┬─────────────┬───────────────┐\n",
            "│ Color ┆ Cut       ┆ Total Value ┆ Diamond Count │\n",
            "│ ---   ┆ ---       ┆ ---         ┆ ---           │\n",
            "│ str   ┆ str       ┆ i64         ┆ u32           │\n",
            "╞═══════╪═══════════╪═════════════╪═══════════════╡\n",
            "│ G     ┆ Ideal     ┆ 9363514     ┆ 690           │\n",
            "│ G     ┆ Very Good ┆ 7140620     ┆ 578           │\n",
            "│ F     ┆ Very Good ┆ 5648327     ┆ 455           │\n",
            "│ F     ┆ Ideal     ┆ 5346782     ┆ 363           │\n",
            "│ H     ┆ Ideal     ┆ 5279687     ┆ 458           │\n",
            "└───────┴───────────┴─────────────┴───────────────┘\n"
          ]
        },
        {
          "output_type": "stream",
          "name": "stderr",
          "text": [
            "/tmp/ipython-input-217697691.py:6: DeprecationWarning: `pl.count()` is deprecated. Please use `pl.len()` instead.\n",
            "  pl.count().alias(\"Diamond Count\")\n"
          ]
        }
      ],
      "source": [
        "# Your code here:\n",
        "top_segments = (\n",
        "    df.group_by([\"Color\", \"Cut\"])\n",
        "     .agg([\n",
        "         (pl.col(\"Price\").sum()).alias(\"Total Value\"),\n",
        "         pl.count().alias(\"Diamond Count\")\n",
        "     ])\n",
        "     .sort(\"Total Value\", descending=True)\n",
        "     .head(5)\n",
        ")\n",
        "\n",
        "print(top_segments)"
      ]
    },
    {
      "cell_type": "markdown",
      "metadata": {
        "id": "Ey6dYpwCytdD"
      },
      "source": [
        "## Debrief\n",
        "\n",
        "Congratulations! You've just completed your first day as the diamond company's data analyst.\n",
        "\n",
        "Remember:\n",
        "- CEOs speak in business language, not technical terms\n",
        "- Always understand what each row represents before analyzing\n",
        "- Business questions contain clues about which operations to use"
      ]
    }
  ],
  "metadata": {
    "kernelspec": {
      "display_name": "Python 3",
      "language": "python",
      "name": "python3"
    },
    "language_info": {
      "codemirror_mode": {
        "name": "ipython",
        "version": 3
      },
      "file_extension": ".py",
      "mimetype": "text/x-python",
      "name": "python",
      "nbconvert_exporter": "python",
      "pygments_lexer": "ipython3",
      "version": "3.12.0"
    },
    "colab": {
      "provenance": []
    }
  },
  "nbformat": 4,
  "nbformat_minor": 0
}